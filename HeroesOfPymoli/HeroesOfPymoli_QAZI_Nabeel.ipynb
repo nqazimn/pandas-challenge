{
 "cells": [
  {
   "cell_type": "code",
   "execution_count": 1,
   "metadata": {},
   "outputs": [],
   "source": [
    "# import modules\n",
    "import pandas as pd\n",
    "import os"
   ]
  },
  {
   "cell_type": "code",
   "execution_count": 2,
   "metadata": {},
   "outputs": [
    {
     "data": {
      "text/html": [
       "<div>\n",
       "<style scoped>\n",
       "    .dataframe tbody tr th:only-of-type {\n",
       "        vertical-align: middle;\n",
       "    }\n",
       "\n",
       "    .dataframe tbody tr th {\n",
       "        vertical-align: top;\n",
       "    }\n",
       "\n",
       "    .dataframe thead th {\n",
       "        text-align: right;\n",
       "    }\n",
       "</style>\n",
       "<table border=\"1\" class=\"dataframe\">\n",
       "  <thead>\n",
       "    <tr style=\"text-align: right;\">\n",
       "      <th></th>\n",
       "      <th>Purchase ID</th>\n",
       "      <th>SN</th>\n",
       "      <th>Age</th>\n",
       "      <th>Gender</th>\n",
       "      <th>Item ID</th>\n",
       "      <th>Item Name</th>\n",
       "      <th>Price</th>\n",
       "    </tr>\n",
       "  </thead>\n",
       "  <tbody>\n",
       "    <tr>\n",
       "      <td>0</td>\n",
       "      <td>0</td>\n",
       "      <td>Lisim78</td>\n",
       "      <td>20</td>\n",
       "      <td>Male</td>\n",
       "      <td>108</td>\n",
       "      <td>Extraction, Quickblade Of Trembling Hands</td>\n",
       "      <td>3.53</td>\n",
       "    </tr>\n",
       "    <tr>\n",
       "      <td>1</td>\n",
       "      <td>1</td>\n",
       "      <td>Lisovynya38</td>\n",
       "      <td>40</td>\n",
       "      <td>Male</td>\n",
       "      <td>143</td>\n",
       "      <td>Frenzied Scimitar</td>\n",
       "      <td>1.56</td>\n",
       "    </tr>\n",
       "    <tr>\n",
       "      <td>2</td>\n",
       "      <td>2</td>\n",
       "      <td>Ithergue48</td>\n",
       "      <td>24</td>\n",
       "      <td>Male</td>\n",
       "      <td>92</td>\n",
       "      <td>Final Critic</td>\n",
       "      <td>4.88</td>\n",
       "    </tr>\n",
       "    <tr>\n",
       "      <td>3</td>\n",
       "      <td>3</td>\n",
       "      <td>Chamassasya86</td>\n",
       "      <td>24</td>\n",
       "      <td>Male</td>\n",
       "      <td>100</td>\n",
       "      <td>Blindscythe</td>\n",
       "      <td>3.27</td>\n",
       "    </tr>\n",
       "    <tr>\n",
       "      <td>4</td>\n",
       "      <td>4</td>\n",
       "      <td>Iskosia90</td>\n",
       "      <td>23</td>\n",
       "      <td>Male</td>\n",
       "      <td>131</td>\n",
       "      <td>Fury</td>\n",
       "      <td>1.44</td>\n",
       "    </tr>\n",
       "  </tbody>\n",
       "</table>\n",
       "</div>"
      ],
      "text/plain": [
       "   Purchase ID             SN  Age Gender  Item ID  \\\n",
       "0            0        Lisim78   20   Male      108   \n",
       "1            1    Lisovynya38   40   Male      143   \n",
       "2            2     Ithergue48   24   Male       92   \n",
       "3            3  Chamassasya86   24   Male      100   \n",
       "4            4      Iskosia90   23   Male      131   \n",
       "\n",
       "                                   Item Name  Price  \n",
       "0  Extraction, Quickblade Of Trembling Hands   3.53  \n",
       "1                          Frenzied Scimitar   1.56  \n",
       "2                               Final Critic   4.88  \n",
       "3                                Blindscythe   3.27  \n",
       "4                                       Fury   1.44  "
      ]
     },
     "execution_count": 2,
     "metadata": {},
     "output_type": "execute_result"
    }
   ],
   "source": [
    "# Create DataFrame from csv file\n",
    "path_to_csv = os.path.join('Resources','purchase_data.csv')\n",
    "purchase_df = pd.read_csv(path_to_csv)\n",
    "purchase_df.head()\n",
    "# purchase_df.tail()"
   ]
  },
  {
   "cell_type": "code",
   "execution_count": 3,
   "metadata": {},
   "outputs": [
    {
     "data": {
      "text/plain": [
       "Index(['Purchase ID', 'SN', 'Age', 'Gender', 'Item ID', 'Item Name', 'Price'], dtype='object')"
      ]
     },
     "execution_count": 3,
     "metadata": {},
     "output_type": "execute_result"
    }
   ],
   "source": [
    "# Glancing at column names\n",
    "purchase_df.columns"
   ]
  },
  {
   "cell_type": "code",
   "execution_count": 4,
   "metadata": {},
   "outputs": [
    {
     "data": {
      "text/plain": [
       "Purchase ID    780\n",
       "SN             780\n",
       "Age            780\n",
       "Gender         780\n",
       "Item ID        780\n",
       "Item Name      780\n",
       "Price          780\n",
       "dtype: int64"
      ]
     },
     "execution_count": 4,
     "metadata": {},
     "output_type": "execute_result"
    }
   ],
   "source": [
    "# Checking if data is clean or not\n",
    "purchase_df.count()"
   ]
  },
  {
   "cell_type": "code",
   "execution_count": 5,
   "metadata": {},
   "outputs": [
    {
     "data": {
      "text/plain": [
       "Purchase ID      int64\n",
       "SN              object\n",
       "Age              int64\n",
       "Gender          object\n",
       "Item ID          int64\n",
       "Item Name       object\n",
       "Price          float64\n",
       "dtype: object"
      ]
     },
     "execution_count": 5,
     "metadata": {},
     "output_type": "execute_result"
    }
   ],
   "source": [
    "purchase_df.dtypes"
   ]
  },
  {
   "cell_type": "code",
   "execution_count": 6,
   "metadata": {},
   "outputs": [
    {
     "data": {
      "text/html": [
       "<div>\n",
       "<style scoped>\n",
       "    .dataframe tbody tr th:only-of-type {\n",
       "        vertical-align: middle;\n",
       "    }\n",
       "\n",
       "    .dataframe tbody tr th {\n",
       "        vertical-align: top;\n",
       "    }\n",
       "\n",
       "    .dataframe thead th {\n",
       "        text-align: right;\n",
       "    }\n",
       "</style>\n",
       "<table border=\"1\" class=\"dataframe\">\n",
       "  <thead>\n",
       "    <tr style=\"text-align: right;\">\n",
       "      <th></th>\n",
       "      <th>Total Players</th>\n",
       "    </tr>\n",
       "  </thead>\n",
       "  <tbody>\n",
       "    <tr>\n",
       "      <td>0</td>\n",
       "      <td>576</td>\n",
       "    </tr>\n",
       "  </tbody>\n",
       "</table>\n",
       "</div>"
      ],
      "text/plain": [
       "   Total Players\n",
       "0            576"
      ]
     },
     "execution_count": 6,
     "metadata": {},
     "output_type": "execute_result"
    }
   ],
   "source": [
    "# Player Count\n",
    "total_players = purchase_df[\"SN\"].nunique()\n",
    "pd.DataFrame({\"Total Players\":[total_players]})"
   ]
  },
  {
   "cell_type": "code",
   "execution_count": 7,
   "metadata": {},
   "outputs": [
    {
     "name": "stdout",
     "output_type": "stream",
     "text": [
      "179\n",
      "183\n"
     ]
    }
   ],
   "source": [
    "# Neede to Confirm with Paul\n",
    "print(purchase_df[\"Item Name\"].nunique())\n",
    "print(purchase_df[\"Item ID\"].nunique())"
   ]
  },
  {
   "cell_type": "code",
   "execution_count": 8,
   "metadata": {},
   "outputs": [
    {
     "data": {
      "text/html": [
       "<div>\n",
       "<style scoped>\n",
       "    .dataframe tbody tr th:only-of-type {\n",
       "        vertical-align: middle;\n",
       "    }\n",
       "\n",
       "    .dataframe tbody tr th {\n",
       "        vertical-align: top;\n",
       "    }\n",
       "\n",
       "    .dataframe thead th {\n",
       "        text-align: right;\n",
       "    }\n",
       "</style>\n",
       "<table border=\"1\" class=\"dataframe\">\n",
       "  <thead>\n",
       "    <tr style=\"text-align: right;\">\n",
       "      <th></th>\n",
       "      <th>Number of Unique Items</th>\n",
       "      <th>Average Price</th>\n",
       "      <th>Number of Purchases</th>\n",
       "      <th>Total Revenue</th>\n",
       "    </tr>\n",
       "  </thead>\n",
       "  <tbody>\n",
       "    <tr>\n",
       "      <td>0</td>\n",
       "      <td>183</td>\n",
       "      <td>$3.05</td>\n",
       "      <td>780</td>\n",
       "      <td>$2,379.77</td>\n",
       "    </tr>\n",
       "  </tbody>\n",
       "</table>\n",
       "</div>"
      ],
      "text/plain": [
       "   Number of Unique Items Average Price  Number of Purchases Total Revenue\n",
       "0                     183         $3.05                  780     $2,379.77"
      ]
     },
     "execution_count": 8,
     "metadata": {},
     "output_type": "execute_result"
    }
   ],
   "source": [
    "# Purchasing Analysis\n",
    "total_number_of_unique_items = purchase_df[\"Item ID\"].nunique()\n",
    "average_purchase_price = purchase_df[\"Price\"].mean()\n",
    "total_number_of_purchases = purchase_df[\"Item ID\"].count()\n",
    "total_revenue = purchase_df[\"Price\"].sum()\n",
    "purchasing_analysis_df = pd.DataFrame({\"Number of Unique Items\":[total_number_of_unique_items],\\\n",
    "              \"Average Price\":[average_purchase_price],\\\n",
    "             \"Number of Purchases\":[total_number_of_purchases],\\\n",
    "             \"Total Revenue\":total_revenue})\n",
    "\n",
    "# Using mapping to change display formatting for readibility\n",
    "purchasing_analysis_df[\"Average Price\"] = purchasing_analysis_df[\"Average Price\"].map('${:.2f}'.format)\n",
    "purchasing_analysis_df[\"Total Revenue\"] = purchasing_analysis_df[\"Total Revenue\"].map('${:,.2f}'.format)\n",
    "purchasing_analysis_df"
   ]
  },
  {
   "cell_type": "code",
   "execution_count": 17,
   "metadata": {},
   "outputs": [
    {
     "data": {
      "text/html": [
       "<div>\n",
       "<style scoped>\n",
       "    .dataframe tbody tr th:only-of-type {\n",
       "        vertical-align: middle;\n",
       "    }\n",
       "\n",
       "    .dataframe tbody tr th {\n",
       "        vertical-align: top;\n",
       "    }\n",
       "\n",
       "    .dataframe thead th {\n",
       "        text-align: right;\n",
       "    }\n",
       "</style>\n",
       "<table border=\"1\" class=\"dataframe\">\n",
       "  <thead>\n",
       "    <tr style=\"text-align: right;\">\n",
       "      <th></th>\n",
       "      <th>Total Counts</th>\n",
       "      <th>Percentage of Players</th>\n",
       "    </tr>\n",
       "  </thead>\n",
       "  <tbody>\n",
       "    <tr>\n",
       "      <td>Male</td>\n",
       "      <td>484</td>\n",
       "      <td>84.03%</td>\n",
       "    </tr>\n",
       "    <tr>\n",
       "      <td>Female</td>\n",
       "      <td>81</td>\n",
       "      <td>14.06%</td>\n",
       "    </tr>\n",
       "    <tr>\n",
       "      <td>Other / Non-Disclosed</td>\n",
       "      <td>11</td>\n",
       "      <td>1.91%</td>\n",
       "    </tr>\n",
       "  </tbody>\n",
       "</table>\n",
       "</div>"
      ],
      "text/plain": [
       "                       Total Counts Percentage of Players\n",
       "Male                            484                84.03%\n",
       "Female                           81                14.06%\n",
       "Other / Non-Disclosed            11                 1.91%"
      ]
     },
     "execution_count": 17,
     "metadata": {},
     "output_type": "execute_result"
    }
   ],
   "source": [
    "# Gender Demographics\n",
    "\n",
    "# Performing value_counts() on Gender column after\n",
    "# dropping duplicate players from the data set\n",
    "# Reasoning: A player may have bought items more than once and therefore \n",
    "# may appear multiple times in transactions.\n",
    "gender_df = pd.DataFrame(purchase_df.drop_duplicates(\"SN\")[\"Gender\"].value_counts())\n",
    "gender_df = gender_df.rename(columns = {\"Gender\":\"Total Counts\"})\n",
    "gender_df[\"Percentage of Players\"] = gender_df[\"Total Counts\"]/total_players*100\n",
    "\n",
    "# Using mapping to change display formatting for readibility\n",
    "gender_df[\"Percentage of Players\"] = gender_df[\"Percentage of Players\"].map('{:.2f}%'.format)\n",
    "gender_df"
   ]
  },
  {
   "cell_type": "code",
   "execution_count": 53,
   "metadata": {},
   "outputs": [
    {
     "name": "stdout",
     "output_type": "stream",
     "text": [
      "113\n",
      "652\n",
      "15\n",
      "3.203008849557519\n",
      "3.0178527607361953\n",
      "3.3460000000000005\n",
      "361.94\n",
      "1967.64\n",
      "50.19\n"
     ]
    }
   ],
   "source": [
    "# Grab locations of Male/Female/Other genders\n",
    "isFemale = purchase_df[\"Gender\"]==\"Female\"\n",
    "isMale = purchase_df[\"Gender\"]==\"Male\"\n",
    "isOther = purchase_df[\"Gender\"] == \"Other / Non-Disclosed\"\n",
    "\n",
    "print(purchase_df[isFemale][\"Item ID\"].count())\n",
    "print(purchase_df[isMale][\"Item ID\"].count())\n",
    "print(purchase_df[isOther][\"Item ID\"].count())\n",
    "\n",
    "print(purchase_df[isFemale][\"Price\"].mean())\n",
    "print(purchase_df[isMale][\"Price\"].mean())\n",
    "print(purchase_df[isOther][\"Price\"].mean())\n",
    "\n",
    "print(purchase_df[isFemale][\"Price\"].sum())\n",
    "print(purchase_df[isMale][\"Price\"].sum())\n",
    "print(purchase_df[isOther][\"Price\"].sum())\n",
    "\n",
    "# AVERAGE PURCHASE TOTAL PER PERSON BY GENDER???"
   ]
  }
 ],
 "metadata": {
  "kernelspec": {
   "display_name": "Python 3",
   "language": "python",
   "name": "python3"
  },
  "language_info": {
   "codemirror_mode": {
    "name": "ipython",
    "version": 3
   },
   "file_extension": ".py",
   "mimetype": "text/x-python",
   "name": "python",
   "nbconvert_exporter": "python",
   "pygments_lexer": "ipython3",
   "version": "3.7.4"
  }
 },
 "nbformat": 4,
 "nbformat_minor": 2
}
