{
 "cells": [
  {
   "cell_type": "code",
   "execution_count": 1,
   "metadata": {},
   "outputs": [],
   "source": [
    "# import modules\n",
    "import pandas as pd\n",
    "import os\n",
    "import warnings\n",
    "\n",
    "# Only show warning once in the notebook\n",
    "warnings.filterwarnings(action = 'ignore')\n",
    "\n",
    "# Adding options to display all of the rows of DataFrame w/o truncation\n",
    "pd.set_option('display.max_rows',None)\n",
    "pd.set_option('display.max_columns',None)"
   ]
  },
  {
   "cell_type": "code",
   "execution_count": 2,
   "metadata": {},
   "outputs": [
    {
     "data": {
      "text/html": [
       "<div>\n",
       "<style scoped>\n",
       "    .dataframe tbody tr th:only-of-type {\n",
       "        vertical-align: middle;\n",
       "    }\n",
       "\n",
       "    .dataframe tbody tr th {\n",
       "        vertical-align: top;\n",
       "    }\n",
       "\n",
       "    .dataframe thead th {\n",
       "        text-align: right;\n",
       "    }\n",
       "</style>\n",
       "<table border=\"1\" class=\"dataframe\">\n",
       "  <thead>\n",
       "    <tr style=\"text-align: right;\">\n",
       "      <th></th>\n",
       "      <th>Purchase ID</th>\n",
       "      <th>SN</th>\n",
       "      <th>Age</th>\n",
       "      <th>Gender</th>\n",
       "      <th>Item ID</th>\n",
       "      <th>Item Name</th>\n",
       "      <th>Price</th>\n",
       "    </tr>\n",
       "  </thead>\n",
       "  <tbody>\n",
       "    <tr>\n",
       "      <th>0</th>\n",
       "      <td>0</td>\n",
       "      <td>Lisim78</td>\n",
       "      <td>20</td>\n",
       "      <td>Male</td>\n",
       "      <td>108</td>\n",
       "      <td>Extraction, Quickblade Of Trembling Hands</td>\n",
       "      <td>3.53</td>\n",
       "    </tr>\n",
       "    <tr>\n",
       "      <th>1</th>\n",
       "      <td>1</td>\n",
       "      <td>Lisovynya38</td>\n",
       "      <td>40</td>\n",
       "      <td>Male</td>\n",
       "      <td>143</td>\n",
       "      <td>Frenzied Scimitar</td>\n",
       "      <td>1.56</td>\n",
       "    </tr>\n",
       "    <tr>\n",
       "      <th>2</th>\n",
       "      <td>2</td>\n",
       "      <td>Ithergue48</td>\n",
       "      <td>24</td>\n",
       "      <td>Male</td>\n",
       "      <td>92</td>\n",
       "      <td>Final Critic</td>\n",
       "      <td>4.88</td>\n",
       "    </tr>\n",
       "    <tr>\n",
       "      <th>3</th>\n",
       "      <td>3</td>\n",
       "      <td>Chamassasya86</td>\n",
       "      <td>24</td>\n",
       "      <td>Male</td>\n",
       "      <td>100</td>\n",
       "      <td>Blindscythe</td>\n",
       "      <td>3.27</td>\n",
       "    </tr>\n",
       "    <tr>\n",
       "      <th>4</th>\n",
       "      <td>4</td>\n",
       "      <td>Iskosia90</td>\n",
       "      <td>23</td>\n",
       "      <td>Male</td>\n",
       "      <td>131</td>\n",
       "      <td>Fury</td>\n",
       "      <td>1.44</td>\n",
       "    </tr>\n",
       "  </tbody>\n",
       "</table>\n",
       "</div>"
      ],
      "text/plain": [
       "   Purchase ID             SN  Age Gender  Item ID  \\\n",
       "0            0        Lisim78   20   Male      108   \n",
       "1            1    Lisovynya38   40   Male      143   \n",
       "2            2     Ithergue48   24   Male       92   \n",
       "3            3  Chamassasya86   24   Male      100   \n",
       "4            4      Iskosia90   23   Male      131   \n",
       "\n",
       "                                   Item Name  Price  \n",
       "0  Extraction, Quickblade Of Trembling Hands   3.53  \n",
       "1                          Frenzied Scimitar   1.56  \n",
       "2                               Final Critic   4.88  \n",
       "3                                Blindscythe   3.27  \n",
       "4                                       Fury   1.44  "
      ]
     },
     "execution_count": 2,
     "metadata": {},
     "output_type": "execute_result"
    }
   ],
   "source": [
    "# Create DataFrame from csv file\n",
    "path_to_csv = os.path.join('Resources','purchase_data.csv')\n",
    "purchase_df = pd.read_csv(path_to_csv)\n",
    "purchase_df.head()"
   ]
  },
  {
   "cell_type": "markdown",
   "metadata": {},
   "source": [
    "## Player Count"
   ]
  },
  {
   "cell_type": "code",
   "execution_count": 3,
   "metadata": {},
   "outputs": [
    {
     "data": {
      "text/html": [
       "<div>\n",
       "<style scoped>\n",
       "    .dataframe tbody tr th:only-of-type {\n",
       "        vertical-align: middle;\n",
       "    }\n",
       "\n",
       "    .dataframe tbody tr th {\n",
       "        vertical-align: top;\n",
       "    }\n",
       "\n",
       "    .dataframe thead th {\n",
       "        text-align: right;\n",
       "    }\n",
       "</style>\n",
       "<table border=\"1\" class=\"dataframe\">\n",
       "  <thead>\n",
       "    <tr style=\"text-align: right;\">\n",
       "      <th></th>\n",
       "      <th>Total Players</th>\n",
       "    </tr>\n",
       "  </thead>\n",
       "  <tbody>\n",
       "    <tr>\n",
       "      <th>0</th>\n",
       "      <td>576</td>\n",
       "    </tr>\n",
       "  </tbody>\n",
       "</table>\n",
       "</div>"
      ],
      "text/plain": [
       "   Total Players\n",
       "0            576"
      ]
     },
     "execution_count": 3,
     "metadata": {},
     "output_type": "execute_result"
    }
   ],
   "source": [
    "# Player Count\n",
    "total_players = purchase_df[\"SN\"].nunique()\n",
    "pd.DataFrame({\"Total Players\":[total_players]})"
   ]
  },
  {
   "cell_type": "markdown",
   "metadata": {},
   "source": [
    "## Purchasing Analysis (Total)"
   ]
  },
  {
   "cell_type": "code",
   "execution_count": 4,
   "metadata": {},
   "outputs": [
    {
     "data": {
      "text/html": [
       "<style  type=\"text/css\" >\n",
       "</style><table id=\"T_5da7ea6e_301d_11ea_b764_98fa9b3d5732\" ><thead>    <tr>        <th class=\"blank level0\" ></th>        <th class=\"col_heading level0 col0\" >Number of Unique Items</th>        <th class=\"col_heading level0 col1\" >Average Price</th>        <th class=\"col_heading level0 col2\" >Number of Purchases</th>        <th class=\"col_heading level0 col3\" >Total Revenue</th>    </tr></thead><tbody>\n",
       "                <tr>\n",
       "                        <th id=\"T_5da7ea6e_301d_11ea_b764_98fa9b3d5732level0_row0\" class=\"row_heading level0 row0\" >0</th>\n",
       "                        <td id=\"T_5da7ea6e_301d_11ea_b764_98fa9b3d5732row0_col0\" class=\"data row0 col0\" >183</td>\n",
       "                        <td id=\"T_5da7ea6e_301d_11ea_b764_98fa9b3d5732row0_col1\" class=\"data row0 col1\" >$3.05</td>\n",
       "                        <td id=\"T_5da7ea6e_301d_11ea_b764_98fa9b3d5732row0_col2\" class=\"data row0 col2\" >780</td>\n",
       "                        <td id=\"T_5da7ea6e_301d_11ea_b764_98fa9b3d5732row0_col3\" class=\"data row0 col3\" >$2,379.77</td>\n",
       "            </tr>\n",
       "    </tbody></table>"
      ],
      "text/plain": [
       "<pandas.io.formats.style.Styler at 0x2ac75980b00>"
      ]
     },
     "execution_count": 4,
     "metadata": {},
     "output_type": "execute_result"
    }
   ],
   "source": [
    "total_number_of_unique_items = purchase_df[\"Item ID\"].nunique()\n",
    "average_purchase_price = purchase_df[\"Price\"].mean()\n",
    "total_number_of_purchases = purchase_df[\"Item ID\"].count()\n",
    "total_revenue = purchase_df[\"Price\"].sum()\n",
    "\n",
    "# Collect analysis in a summary data frame\n",
    "purchasing_analysis_df = pd.DataFrame({\"Number of Unique Items\":[total_number_of_unique_items],\\\n",
    "              \"Average Price\":[average_purchase_price],\\\n",
    "             \"Number of Purchases\":[total_number_of_purchases],\\\n",
    "             \"Total Revenue\":total_revenue})\n",
    "\n",
    "# Change formatting for cleaner display\n",
    "purchasing_analysis_df.style.format({'Average Price': \"${:,.2f}\", \\\n",
    "                                     'Total Revenue': '${:,.2f}'})"
   ]
  },
  {
   "cell_type": "markdown",
   "metadata": {},
   "source": [
    "## Gender Demographics"
   ]
  },
  {
   "cell_type": "code",
   "execution_count": 5,
   "metadata": {},
   "outputs": [
    {
     "data": {
      "text/html": [
       "<style  type=\"text/css\" >\n",
       "</style><table id=\"T_5ec9f758_301d_11ea_8b10_98fa9b3d5732\" ><thead>    <tr>        <th class=\"blank level0\" ></th>        <th class=\"col_heading level0 col0\" >Total Counts</th>        <th class=\"col_heading level0 col1\" >Percentage of Players</th>    </tr></thead><tbody>\n",
       "                <tr>\n",
       "                        <th id=\"T_5ec9f758_301d_11ea_8b10_98fa9b3d5732level0_row0\" class=\"row_heading level0 row0\" >Male</th>\n",
       "                        <td id=\"T_5ec9f758_301d_11ea_8b10_98fa9b3d5732row0_col0\" class=\"data row0 col0\" >484</td>\n",
       "                        <td id=\"T_5ec9f758_301d_11ea_8b10_98fa9b3d5732row0_col1\" class=\"data row0 col1\" >84.03%</td>\n",
       "            </tr>\n",
       "            <tr>\n",
       "                        <th id=\"T_5ec9f758_301d_11ea_8b10_98fa9b3d5732level0_row1\" class=\"row_heading level0 row1\" >Female</th>\n",
       "                        <td id=\"T_5ec9f758_301d_11ea_8b10_98fa9b3d5732row1_col0\" class=\"data row1 col0\" >81</td>\n",
       "                        <td id=\"T_5ec9f758_301d_11ea_8b10_98fa9b3d5732row1_col1\" class=\"data row1 col1\" >14.06%</td>\n",
       "            </tr>\n",
       "            <tr>\n",
       "                        <th id=\"T_5ec9f758_301d_11ea_8b10_98fa9b3d5732level0_row2\" class=\"row_heading level0 row2\" >Other / Non-Disclosed</th>\n",
       "                        <td id=\"T_5ec9f758_301d_11ea_8b10_98fa9b3d5732row2_col0\" class=\"data row2 col0\" >11</td>\n",
       "                        <td id=\"T_5ec9f758_301d_11ea_8b10_98fa9b3d5732row2_col1\" class=\"data row2 col1\" >1.91%</td>\n",
       "            </tr>\n",
       "    </tbody></table>"
      ],
      "text/plain": [
       "<pandas.io.formats.style.Styler at 0x2ac75bf7278>"
      ]
     },
     "execution_count": 5,
     "metadata": {},
     "output_type": "execute_result"
    }
   ],
   "source": [
    "# Performing value_counts() on Gender column after\n",
    "# dropping duplicate players from the data set\n",
    "# Reasoning: A player may have bought items more than once and therefore \n",
    "# may appear multiple times in transactions.\n",
    "gender_df = pd.DataFrame(purchase_df.drop_duplicates(\"SN\")[\"Gender\"].value_counts())\n",
    "gender_df = gender_df.rename(columns = {\"Gender\":\"Total Counts\"})\n",
    "gender_df[\"Percentage of Players\"] = gender_df[\"Total Counts\"]/total_players*100\n",
    "\n",
    "# Change formatting for cleaner display\n",
    "gender_df.style.format({\"Percentage of Players\": \"{:,.2f}%\"})"
   ]
  },
  {
   "cell_type": "markdown",
   "metadata": {},
   "source": [
    "## Purchasing Analysis (Gender)"
   ]
  },
  {
   "cell_type": "code",
   "execution_count": 19,
   "metadata": {},
   "outputs": [
    {
     "data": {
      "text/html": [
       "<style  type=\"text/css\" >\n",
       "</style><table id=\"T_27370e22_301e_11ea_a269_98fa9b3d5732\" ><thead>    <tr>        <th class=\"blank level0\" ></th>        <th class=\"col_heading level0 col0\" >Purchase Count</th>        <th class=\"col_heading level0 col1\" >Average Purchase Price</th>        <th class=\"col_heading level0 col2\" >Total Purchase Value</th>        <th class=\"col_heading level0 col3\" >Avg Total Purchase per Person</th>    </tr>    <tr>        <th class=\"index_name level0\" >Gender</th>        <th class=\"blank\" ></th>        <th class=\"blank\" ></th>        <th class=\"blank\" ></th>        <th class=\"blank\" ></th>    </tr></thead><tbody>\n",
       "                <tr>\n",
       "                        <th id=\"T_27370e22_301e_11ea_a269_98fa9b3d5732level0_row0\" class=\"row_heading level0 row0\" >Female</th>\n",
       "                        <td id=\"T_27370e22_301e_11ea_a269_98fa9b3d5732row0_col0\" class=\"data row0 col0\" >113</td>\n",
       "                        <td id=\"T_27370e22_301e_11ea_a269_98fa9b3d5732row0_col1\" class=\"data row0 col1\" >$3.20</td>\n",
       "                        <td id=\"T_27370e22_301e_11ea_a269_98fa9b3d5732row0_col2\" class=\"data row0 col2\" >$361.94</td>\n",
       "                        <td id=\"T_27370e22_301e_11ea_a269_98fa9b3d5732row0_col3\" class=\"data row0 col3\" >$4.47</td>\n",
       "            </tr>\n",
       "            <tr>\n",
       "                        <th id=\"T_27370e22_301e_11ea_a269_98fa9b3d5732level0_row1\" class=\"row_heading level0 row1\" >Male</th>\n",
       "                        <td id=\"T_27370e22_301e_11ea_a269_98fa9b3d5732row1_col0\" class=\"data row1 col0\" >652</td>\n",
       "                        <td id=\"T_27370e22_301e_11ea_a269_98fa9b3d5732row1_col1\" class=\"data row1 col1\" >$3.02</td>\n",
       "                        <td id=\"T_27370e22_301e_11ea_a269_98fa9b3d5732row1_col2\" class=\"data row1 col2\" >$1,967.64</td>\n",
       "                        <td id=\"T_27370e22_301e_11ea_a269_98fa9b3d5732row1_col3\" class=\"data row1 col3\" >$4.07</td>\n",
       "            </tr>\n",
       "            <tr>\n",
       "                        <th id=\"T_27370e22_301e_11ea_a269_98fa9b3d5732level0_row2\" class=\"row_heading level0 row2\" >Other / Non-Disclosed</th>\n",
       "                        <td id=\"T_27370e22_301e_11ea_a269_98fa9b3d5732row2_col0\" class=\"data row2 col0\" >15</td>\n",
       "                        <td id=\"T_27370e22_301e_11ea_a269_98fa9b3d5732row2_col1\" class=\"data row2 col1\" >$3.35</td>\n",
       "                        <td id=\"T_27370e22_301e_11ea_a269_98fa9b3d5732row2_col2\" class=\"data row2 col2\" >$50.19</td>\n",
       "                        <td id=\"T_27370e22_301e_11ea_a269_98fa9b3d5732row2_col3\" class=\"data row2 col3\" >$4.56</td>\n",
       "            </tr>\n",
       "    </tbody></table>"
      ],
      "text/plain": [
       "<pandas.io.formats.style.Styler at 0x2ac770225c0>"
      ]
     },
     "execution_count": 19,
     "metadata": {},
     "output_type": "execute_result"
    }
   ],
   "source": [
    "# Groupby Gender to calculate gender demographics\n",
    "purchase_count = (purchase_df.groupby([\"Gender\"])[\"Purchase ID\"].count())\n",
    "average_price = (purchase_df.groupby([\"Gender\"])[\"Price\"].mean())\n",
    "total_revenue = (purchase_df.groupby([\"Gender\"])[\"Price\"].sum())\n",
    "avg_price_per_person = (purchase_df.groupby([\"Gender\",\"SN\"])['Price'].sum())\n",
    "\n",
    "# Summary Table for purchasing analysis by Gender\n",
    "summary_purchase_by_gender = pd.DataFrame({\"Purchase Count\": purchase_count,\\\n",
    "                                           \"Average Purchase Price\": average_price,\\\n",
    "                                           \"Total Purchase Value\": total_revenue})\n",
    "\n",
    "# Calculate total price per ID per gender by adding all the prices per ID.\n",
    "total_purchase_per_person = purchase_df.groupby(['Gender','SN'])['Price'].sum().reset_index()\n",
    "avg_total_purchase_per_person = total_purchase_per_person.groupby('Gender').mean()\n",
    "\n",
    "# using reset_index() to bring Gender as common column in both dfs\n",
    "avg_total_purchase_per_person = avg_total_purchase_per_person.reset_index()\n",
    "\n",
    "# Merge summary_purchase_by_gender with newly calculated avg_total_purchase_per_person\n",
    "summary_purchase_by_gender_merged = pd.merge(summary_purchase_by_gender.reset_index(),\\\n",
    "                                             avg_total_purchase_per_person)\n",
    "summary_purchase_by_gender_merged = summary_purchase_by_gender_merged.set_index('Gender')\n",
    "summary_purchase_by_gender_merged = summary_purchase_by_gender_merged.rename(columns={'Price':'Avg Total Purchase per Person'})\n",
    "\n",
    "#summary_purchase_by_gender\n",
    "# Change formatting for cleaner display\n",
    "summary_purchase_by_gender_merged.style.format({'Average Purchase Price': \"${:,.2f}\",\\\n",
    "                                  'Total Purchase Value': '${:,.2f}','Avg Total Purchase per Person': '${:,.2f}'})"
   ]
  },
  {
   "cell_type": "markdown",
   "metadata": {},
   "source": [
    "## Age Demographics"
   ]
  },
  {
   "cell_type": "code",
   "execution_count": null,
   "metadata": {},
   "outputs": [],
   "source": [
    "# Drop duplicates for analysis on players\n",
    "age_df = purchase_df.drop_duplicates(['SN'])\n",
    "\n",
    "# Define age bins and labels\n",
    "age_bins = [0,9,14,19,24,29,34,39,50]\n",
    "age_labels = ['<10','10-14','15-19','20-24','25-29','30-34','35-39','40+']\n",
    "\n",
    "age_df['Age Ranges'] = pd.cut(age_df['Age'], bins = age_bins, labels = age_labels)\n",
    "\n",
    "# Calculate total counts per bin and percentage of players per bin\n",
    "counts_per_age_bin = age_df.groupby(['Age Ranges'])['Age Ranges'].count()\n",
    "percentage_per_age_bin = counts_per_age_bin/total_players*100\n",
    "\n",
    "age_demo_df = pd.DataFrame({'Total Counts': counts_per_age_bin,\\\n",
    "                          'Percentage of Players': percentage_per_age_bin})\n",
    "\n",
    "# Change formatting for cleaner display\n",
    "age_demo_df.style.format({\"Percentage of Players\": \"{:,.2f}%\"})"
   ]
  },
  {
   "cell_type": "markdown",
   "metadata": {},
   "source": [
    "## Purchasing Analysis (Age)"
   ]
  },
  {
   "cell_type": "code",
   "execution_count": null,
   "metadata": {},
   "outputs": [],
   "source": [
    "# Not Dropping duplicates for analysis on item purchases\n",
    "\n",
    "# Define age bins and labels\n",
    "age_bins = [0,9,14,19,24,29,34,39,50]\n",
    "age_labels = ['<10','10-14','15-19','20-24','25-29','30-34','35-39','40+']\n",
    "\n",
    "purchase_df['Age Ranges'] = pd.cut(purchase_df['Age'], bins = age_bins, labels = age_labels)\n",
    "\n",
    "# Calculate total purchase count, \n",
    "purchase_counts_per_age_bin = purchase_df.groupby(['Age Ranges'])['Purchase ID'].count()\n",
    "avg_purchase_price_per_age_bin = purchase_df.groupby(['Age Ranges'])['Price'].mean()\n",
    "total_purchase_value_per_age_bin = purchase_df.groupby(['Age Ranges'])['Price'].sum()\n",
    "#avg_total_purchase_per_person = ???\n",
    "\n",
    "purchase_by_age_df = pd.DataFrame({'Purchase Count': purchase_counts_per_age_bin,\\\n",
    "                                  'Average Purchase Price': avg_purchase_price_per_age_bin,\\\n",
    "                                  'Total Purchase Value': total_purchase_value_per_age_bin,\\\n",
    "                                  'Avg Total Purchase Per Person':['?','?','?','?','?','?','?','?']})\n",
    "\n",
    "# Change formatting for cleaner display\n",
    "purchase_by_age_df.style.format({'Average Purchase Price': \"${:,.2f}\",\\\n",
    "                                  'Total Purchase Value': '${:,.2f}'})"
   ]
  },
  {
   "cell_type": "markdown",
   "metadata": {},
   "source": [
    "## Top Spenders"
   ]
  },
  {
   "cell_type": "code",
   "execution_count": null,
   "metadata": {},
   "outputs": [],
   "source": [
    "# Group by SN to study player statistics\n",
    "purchase_count = (purchase_df.groupby([\"SN\"])[\"Item ID\"].count())\n",
    "average_price = (purchase_df.groupby([\"SN\"])[\"Price\"].mean())\n",
    "total_revenue = (purchase_df.groupby([\"SN\"])[\"Price\"].sum())\n",
    "\n",
    "# Summary Table for purchasing analysis by SN\n",
    "summary_purchase_by_SN = pd.DataFrame({\"Purchase Count\": purchase_count,\\\n",
    "              \"Average Purchase Price\": average_price,\\\n",
    "              \"Total Purchase Value\": total_revenue})\n",
    "\n",
    "# Sort summary DataFrame by Total purchase value first before performing formatting\n",
    "summary_purchase_by_SN = summary_purchase_by_SN.sort_values([\"Total Purchase Value\"],ascending = False)\n",
    "\n",
    "# Change formatting for cleaner display\n",
    "summary_purchase_by_SN.head().style.format({'Average Purchase Price': \"${:,.2f}\", 'Total Purchase Value': '${:,.2f}'})"
   ]
  },
  {
   "cell_type": "markdown",
   "metadata": {},
   "source": [
    "## Most Popular Items"
   ]
  },
  {
   "cell_type": "code",
   "execution_count": null,
   "metadata": {},
   "outputs": [],
   "source": [
    "purchase_count = purchase_df.groupby(['Item ID','Item Name','Price'])['Item ID'].count()\n",
    "total_purchase_value = purchase_df.groupby(['Item ID','Item Name','Price'])['Price'].sum()\n",
    "\n",
    "popular_df = pd.DataFrame({'Purchase Count': purchase_count,\\\n",
    "                          'Total Purchase Value': total_purchase_value}).reset_index()\n",
    "popular_df = popular_df[['Item ID','Item Name','Purchase Count','Price','Total Purchase Value']]\n",
    "popular_df = popular_df.rename(columns = {'Price':'Item Price'})\n",
    "popular_df = popular_df.set_index(['Item ID','Item Name'])\n",
    "popular_df = popular_df.sort_values(['Purchase Count'],ascending = False)\n",
    "\n",
    "popular_df.head().style.format({'Item Price': \"${:,.2f}\", 'Total Purchase Value': '${:,.2f}'})"
   ]
  },
  {
   "cell_type": "markdown",
   "metadata": {},
   "source": [
    "## Most Profitable Items"
   ]
  },
  {
   "cell_type": "code",
   "execution_count": null,
   "metadata": {},
   "outputs": [],
   "source": [
    "profitable_df = popular_df.sort_values('Total Purchase Value', ascending = False)\n",
    "\n",
    "profitable_df.head().style.format({'Item Price': \"${:,.2f}\", 'Total Purchase Value': '${:,.2f}'})"
   ]
  },
  {
   "cell_type": "code",
   "execution_count": null,
   "metadata": {},
   "outputs": [],
   "source": []
  }
 ],
 "metadata": {
  "kernelspec": {
   "display_name": "Python 3",
   "language": "python",
   "name": "python3"
  },
  "language_info": {
   "codemirror_mode": {
    "name": "ipython",
    "version": 3
   },
   "file_extension": ".py",
   "mimetype": "text/x-python",
   "name": "python",
   "nbconvert_exporter": "python",
   "pygments_lexer": "ipython3",
   "version": "3.6.9"
  }
 },
 "nbformat": 4,
 "nbformat_minor": 2
}
